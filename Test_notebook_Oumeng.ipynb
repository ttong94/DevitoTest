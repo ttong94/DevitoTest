{
 "cells": [
  {
   "cell_type": "code",
   "execution_count": 1,
   "metadata": {},
   "outputs": [],
   "source": [
    "#NBVAL_IGNORE_OUTPUT\n",
    "# Adding ignore due to (probably an np notebook magic) bug\n",
    "import numpy as np\n",
    "%matplotlib inline\n",
    "from devito import *\n",
    "from examples.seismic.source import RickerSource, Receiver, TimeAxis\n",
    "from examples.seismic import plot_image, plot_velocity, plot_perturbation, demo_model, ModelElastic\n",
    "# from examples.seismic.model import SeismicModel\n",
    "from sympy import init_printing, latex\n",
    "from anisotropy import StiffnessMatrix, Rotator, StiffnessMatrixVTI\n",
    "init_printing(use_latex='mathjax')\n",
    "\n",
    "import matplotlib.pyplot as plt"
   ]
  },
  {
   "cell_type": "code",
   "execution_count": 2,
   "metadata": {},
   "outputs": [],
   "source": [
    "#NBVAL_IGNORE_OUTPUT\n",
    "from examples.seismic import plot_velocity\n",
    "\n",
    "so = 2 # this could work\n",
    "# so = 6 # this will lead to \"nan\".   !!!!!!!!!!!!!!!!!!!!!!!!!!!\n",
    "# --------------------------------------------------------------------------------\n",
    "to = 2\n",
    "\n",
    "# Define a physical size\n",
    "shape = (150, 300, 100) # Number of grid point (nx, nz)\n",
    "spacing = (10., 10., 10.)  # Grid spacing in m. \n",
    "# The domain size is now 1500m * 3000m * 1000m. \n",
    "\n",
    "interface = 35 # The basement starts at 350m.\n",
    "\n",
    "dtype = np.float32\n",
    "\n",
    "origin = (0, 0, 0) "
   ]
  },
  {
   "cell_type": "code",
   "execution_count": 3,
   "metadata": {},
   "outputs": [],
   "source": [
    "vp = np.zeros(shape) \n",
    "vp[:,:,:interface] = 1.5\n",
    "vp[:,:,interface:] = .5\n",
    "\n",
    "vs = np.zeros(shape) \n",
    "vs[:,:,:interface]= .8\n",
    "vs[:,:,interface:]= .3\n",
    "\n",
    "buo = np.zeros(shape)\n",
    "buo[:,:,:interface] = 1/1.7\n",
    "buo[:,:,interface:] = 1/2.7\n",
    "\n",
    "nbl = 20\n"
   ]
  },
  {
   "cell_type": "code",
   "execution_count": 4,
   "metadata": {},
   "outputs": [],
   "source": [
    "# Define our 'upper' and 'lower' SubDomains:\n",
    "class Upper(SubDomain):\n",
    "    name = 'upper'\n",
    "    def define(self, dimensions):\n",
    "        x, y, z = dimensions\n",
    "        return {x: x, y: y, z: ('left', interface+nbl)}\n",
    "    \n",
    "class Lower(SubDomain):\n",
    "    name = 'lower'\n",
    "    def define(self, dimensions):\n",
    "        x, y, z = dimensions\n",
    "        return {x: x, y: y, z: ('right', shape[2]+nbl-interface)}\n",
    "\n",
    "# Create these subdomains:\n",
    "ur = Upper()\n",
    "lr = Lower()"
   ]
  },
  {
   "cell_type": "code",
   "execution_count": 5,
   "metadata": {},
   "outputs": [
    {
     "name": "stderr",
     "output_type": "stream",
     "text": [
      "Operator `initdamp` run in 0.02 s\n",
      "Operator `pad_lam` run in 0.01 s\n",
      "Operator `pad_mu` run in 0.01 s\n",
      "Operator `pad_b` run in 0.01 s\n"
     ]
    }
   ],
   "source": [
    "model = ModelElastic(space_order=so, vp=vp, vs=vs, b=buo, origin=origin, shape=shape,\n",
    "                     spacing=spacing, nbl=nbl, subdomains=(ur,lr))"
   ]
  },
  {
   "cell_type": "code",
   "execution_count": 6,
   "metadata": {},
   "outputs": [],
   "source": [
    "stiffnessMat = StiffnessMatrix(C11=184.3, C12=48.3, C13=23.8, C14=0, C15=-2, C16=0, C22=178.4, C23=21.7, C24=0,\n",
    "                              C25 = 3.9, C26 = 0, C33=59.1, C34 = 0, C35 = 1.2, C36 = 0, C44 = 16.0, C45=0, C46=0.5,\n",
    "                              C55=17.6, C56=0, C66=72.4)\n",
    "\n",
    "elastic_3333_matrix = stiffnessMat.get4DTensor()"
   ]
  },
  {
   "cell_type": "code",
   "execution_count": 7,
   "metadata": {},
   "outputs": [
    {
     "data": {
      "image/png": "[encoded data removed]",
      "text/plain": [
       "<Figure size 576x432 with 1 Axes>"
      ]
     },
     "metadata": {
      "needs_background": "light"
     },
     "output_type": "display_data"
    }
   ],
   "source": [
    "t0, tn = 0., 2000. # in ms\n",
    "dt = 0.5\n",
    "time_range = TimeAxis(start=t0, stop=tn, step=dt)\n",
    "\n",
    "f0 = 0.02  \n",
    "\n",
    "src = RickerSource(name='src', grid=model.grid, f0=f0, time_range=time_range)\n",
    "\n",
    "# specify the source location\n",
    "src.coordinates.data[:] = np.array([1200., 200., 100.]) #actuall place, NOT index\n",
    "#NBVAL_SKIP\n",
    "\n",
    "src.show()"
   ]
  },
  {
   "cell_type": "code",
   "execution_count": 8,
   "metadata": {},
   "outputs": [],
   "source": [
    "v = VectorTimeFunction(name='v', grid=model.grid, space_order=so, time_order=to)\n",
    "tau = TensorTimeFunction(name='t', grid=model.grid, space_order=so, time_order=to)\n",
    "\n",
    "\n",
    "src_xx = src.inject(field=tau[0, 0].forward, expr=src*dt) ## why times \"s\" here? \"s=model.grid.stepping_dim.spacing\"\n",
    "src_yy = src.inject(field=tau[1, 1].forward, expr=src*dt)\n",
    "src_zz = src.inject(field=tau[2, 2].forward, expr=src*dt)"
   ]
  },
  {
   "cell_type": "code",
   "execution_count": 9,
   "metadata": {},
   "outputs": [],
   "source": [
    "from sympy import Array, tensorproduct, Matrix, transpose, tensorcontraction\n",
    "l, mu, ro = model.lam, model.mu, model.b\n",
    "\n",
    "u_v_u = Eq(v.forward, model.damp * (v + dt*ro*div(tau)), subdomain = model.grid.subdomains['upper'])\n",
    "u_t_u = Eq(tau.forward,  model.damp *  (tau + dt * (l * diag(div(v.forward)) +\n",
    "                                                mu * (grad(v.forward) + grad(v.forward).T)))\n",
    "           , subdomain = model.grid.subdomains['upper'])\n",
    "\n",
    "# ------------------------------------------------------------------------------------------\n",
    "\n",
    "elastic_3333_matrix = Array(elastic_3333_matrix)\n",
    "strain = (grad(v.forward) + grad(v.forward).T) # e_kl\n",
    "C_mul_strain = tensorproduct(elastic_3333_matrix, strain) #C_ijkl * e_kl = 6D_Matrix_ijklkl shape->(3,3,3,3,3,3)\n",
    "first_contract = tensorcontraction(C_mul_strain,(3,4)) # shape-> (3,3,3,3)\n",
    "sec_contract = tensorcontraction(first_contract,(2,3)) # shape-> (3,3)\n",
    "\n",
    "u_v_l = Eq(v.forward,  model.damp * (v + dt*ro*div(tau)), subdomain = model.grid.subdomains['lower'])\n",
    "u_t_l = Eq(tau.forward,  model.damp * (tau + dt * sec_contract),  subdomain = model.grid.subdomains['lower'])\n",
    "\n"
   ]
  },
  {
   "cell_type": "code",
   "execution_count": 10,
   "metadata": {},
   "outputs": [
    {
     "name": "stderr",
     "output_type": "stream",
     "text": [
      "Operator `Kernel` run in 52.25 s\n"
     ]
    },
    {
     "data": {
      "text/plain": [
       "PerformanceSummary([(PerfKey(name='section0', rank=None),\n",
       "  PerfEntry(time=52.229718000000005, gflopss=0.0, gpointss=0.0, oi=0.0, ops=0, itershapes=[])),\n",
       " (PerfKey(name='section1', rank=None),\n",
       "  PerfEntry(time=0.00812400000000002, gflopss=0.0, gpointss=0.0, oi=0.0, ops=0, itershapes=[]))])"
      ]
     },
     "execution_count": 10,
     "metadata": {},
     "output_type": "execute_result"
    }
   ],
   "source": [
    "op = Operator([u_v_u, u_v_l, u_t_u, u_t_l] + src_xx + src_yy + src_zz)\n",
    "\n",
    "op.apply(time = 480)"
   ]
  },
  {
   "cell_type": "code",
   "execution_count": 11,
   "metadata": {},
   "outputs": [
    {
     "data": {
      "text/plain": [
       "nan"
      ]
     },
     "execution_count": 11,
     "metadata": {},
     "output_type": "execute_result"
    }
   ],
   "source": [
    "np.array(v[0].data[0]).max()"
   ]
  },
  {
   "cell_type": "code",
   "execution_count": 12,
   "metadata": {},
   "outputs": [
    {
     "data": {
      "text/latex": [
       "$\\displaystyle \\left( 3, \\  190, \\  340, \\  140\\right)$"
      ],
      "text/plain": [
       "(3, 190, 340, 140)"
      ]
     },
     "execution_count": 12,
     "metadata": {},
     "output_type": "execute_result"
    }
   ],
   "source": [
    "v[0].data.shape\n",
    "\n",
    "# the returned value means (t,x,y,z), (t+dt,x,y,z), (t+2dt,x,y,z), (t+3dt,x,y,z) if time order is three."
   ]
  },
  {
   "cell_type": "code",
   "execution_count": 13,
   "metadata": {},
   "outputs": [],
   "source": [
    "scale =  1e-3"
   ]
  },
  {
   "cell_type": "code",
   "execution_count": 14,
   "metadata": {},
   "outputs": [
    {
     "data": {
      "image/png": "[encoded data removed]",
      "text/plain": [
       "<Figure size 432x288 with 2 Axes>"
      ]
     },
     "metadata": {
      "needs_background": "light"
     },
     "output_type": "display_data"
    },
    {
     "data": {
      "image/png": "[encoded data removed]",
      "text/plain": [
       "<Figure size 432x288 with 2 Axes>"
      ]
     },
     "metadata": {
      "needs_background": "light"
     },
     "output_type": "display_data"
    },
    {
     "data": {
      "image/png": "[encoded data removed]",
      "text/plain": [
       "<Figure size 432x288 with 2 Axes>"
      ]
     },
     "metadata": {
      "needs_background": "light"
     },
     "output_type": "display_data"
    },
    {
     "data": {
      "image/png": "[encoded data removed]",
      "text/plain": [
       "<Figure size 432x288 with 2 Axes>"
      ]
     },
     "metadata": {
      "needs_background": "light"
     },
     "output_type": "display_data"
    }
   ],
   "source": [
    "#NBVAL_IGNORE_OUTPUT\n",
    "\n",
    "# Plots\n",
    "%matplotlib inline\n",
    "\n",
    "# Mid-points:\n",
    "mid_x = int(0.5 * (v[0].data.shape[1]-1))\n",
    "mid_y = int(0.5 * (v[0].data.shape[2]-1))\n",
    "mid_z = int(0.5 * (v[0].data.shape[3]-1))\n",
    "\n",
    "\n",
    "# # Plot some selected results:\n",
    "\n",
    "\n",
    "plot_image(v[1].data[1, :, int(mid_y * 0.2), :],vmin = -scale/2, vmax = scale/2, cmap=\"seismic\")\n",
    "plot_image(v[2].data[1, :, int(mid_y * 0.3), :],vmin = -scale/2, vmax = scale/2, cmap=\"seismic\")\n",
    "\n",
    "plot_image(tau[2, 2].data[1, :, int(mid_y * 0.3), :], vmin = -scale, vmax = scale, cmap=\"seismic\")\n",
    "plot_image(tau[2, 2].data[1, :, int(mid_y * 0.3), :], vmin = -scale, vmax = scale, cmap=\"seismic\")\n"
   ]
  },
  {
   "cell_type": "code",
   "execution_count": null,
   "metadata": {},
   "outputs": [],
   "source": []
  }
 ],
 "metadata": {
  "kernelspec": {
   "display_name": "Python 3",
   "language": "python",
   "name": "python3"
  },
  "language_info": {
   "codemirror_mode": {
    "name": "ipython",
    "version": 3
   },
   "file_extension": ".py",
   "mimetype": "text/x-python",
   "name": "python",
   "nbconvert_exporter": "python",
   "pygments_lexer": "ipython3",
   "version": "3.6.12"
  }
 },
 "nbformat": 4,
 "nbformat_minor": 4
}
